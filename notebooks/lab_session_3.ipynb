{
 "cells": [
  {
   "cell_type": "markdown",
   "id": "70cbc180-f969-45e3-b6e3-81be49c2f2ff",
   "metadata": {},
   "source": [
    "Name : \n"
   ]
  },
  {
   "cell_type": "markdown",
   "id": "f876309c-c5df-4e39-98aa-800c5197e790",
   "metadata": {},
   "source": [
    "E-mail : "
   ]
  },
  {
   "cell_type": "markdown",
   "id": "ac64bcbe-63ae-4cd4-b37c-7a20e29336c1",
   "metadata": {},
   "source": [
    "# Useful Jupyter Notebook Shortcuts\n",
    "\n",
    "Here are some helpful keyboard shortcuts for Jupyter Notebook:\n",
    "\n",
    "- **M**: Switch to Markdown mode\n",
    "- **Y**: Switch to Code mode\n",
    "- **A**: Insert cell above\n",
    "- **B**: Insert cell below\n",
    "- **D, D**: (Press D twice) Delete selected cell\n",
    "- **Shift + Enter**: Run the current cell and move to the next\n",
    "- **Ctrl + Enter**: Run the current cell and stay on it\n",
    "- **Shift + Tab**: Show function/method documentation\n",
    "- **Ctrl + Shift + -**: Split cell at cursor\n",
    "- **Esc**: Enter command mode (blue border)\n",
    "- **Enter**: Enter edit mode (green border)\n"
   ]
  },
  {
   "cell_type": "markdown",
   "id": "4916aef7-e133-4c5c-9a99-c7acd109af62",
   "metadata": {
    "jp-MarkdownHeadingCollapsed": true
   },
   "source": [
    "## default imports"
   ]
  },
  {
   "cell_type": "code",
   "execution_count": 12,
   "id": "e019e3cf-3c57-4107-a16c-03cda08c56aa",
   "metadata": {},
   "outputs": [],
   "source": [
    "# import for internal use\n",
    "from urllib.error import URLError\n",
    "import os\n",
    "from pathlib import Path\n",
    "from keras.utils import get_file"
   ]
  },
  {
   "cell_type": "code",
   "execution_count": 1,
   "id": "b89fc4af-d66a-4efd-bb98-2da918967a9c",
   "metadata": {},
   "outputs": [],
   "source": [
    "# general imports\n",
    "import pandas as pd\n",
    "import numpy as np\n",
    "from numpy.fft import rfft, irfft, rfftfreq\n",
    "import matplotlib.pyplot as plt"
   ]
  },
  {
   "cell_type": "code",
   "execution_count": 4,
   "id": "3cb0253a-f0d7-4901-b5ca-8efa26a4882b",
   "metadata": {
    "scrolled": true
   },
   "outputs": [],
   "source": [
    "# machine learning imports\n",
    "\n",
    "from keras.layers import Input, Dense,  Concatenate, Activation, Add, Flatten, Reshape\n",
    "from keras.models import Model\n",
    "from keras import optimizers, regularizers\n",
    "\n"
   ]
  },
  {
   "cell_type": "markdown",
   "id": "e2a4e082-c320-4205-9bb8-e4b2476f4681",
   "metadata": {
    "jp-MarkdownHeadingCollapsed": true
   },
   "source": [
    "## Public Functions"
   ]
  },
  {
   "cell_type": "code",
   "execution_count": 46,
   "id": "4866ea5b-fed6-492a-b49c-58f771b4a8dd",
   "metadata": {},
   "outputs": [],
   "source": [
    "def load_weather_dataset(\n",
    "    url: str,\n",
    "    fname: str\n",
    "    ) -> pd.DataFrame:\n",
    "    \"\"\"\n",
    "    Load the weather data and return a pandas dataframe.\n",
    "\n",
    "    This function downloads a dataset, extracts it, and creates a pandas dataframe.\n",
    "\n",
    "    Parameters\n",
    "    ----------\n",
    "    url : str\n",
    "        URL or local path to the csv file.\n",
    "    fname : str\n",
    "        Filename to save the downloaded dataset.\n",
    "\n",
    "    Returns\n",
    "    -------\n",
    "    DataFrame : A Pandas DataFrame containing aggregated data\n",
    "\n",
    "    Examples\n",
    "    --------\n",
    "    >>> url = \"https://example.com/dataset.zip\"\n",
    "    >>> fname = \"weather_data.csv\"\n",
    "    >>> weather_df = load_and_create_datasets(url, fname)\n",
    "    >>> print(weather_df.head(5))\n",
    "\n",
    "    Raises\n",
    "    ------\n",
    "    Exception\n",
    "        If the URL download fails, it attempts to use the URL as a local filename.\n",
    "\n",
    "    See Also\n",
    "    --------\n",
    "    keras.utils.get_file : Used for downloading and extracting the dataset\n",
    "    \"\"\"\n",
    "\n",
    "\n",
    "    FileHash = r\"dc860688aeb26bee5c4b7d60397274ce499aaf95211c57ab9319cbc86757f592\"\n",
    "    \n",
    "    try:\n",
    "        dset_download = get_file(fname=fname,\n",
    "            origin=url,\n",
    "            file_hash=FileHash,\n",
    "            force_download=False\n",
    "        )\n",
    "    except Exception:\n",
    "            print(\"URL download failed, try using DATASET_URL as a local filename\")\n",
    "            dset_download = get_file(fname=fname,\n",
    "                                          origin  = \"file:\\\\\"+url,\n",
    "            file_hash=FileHash,\n",
    "            force_download=False\n",
    "        )\n",
    "    \n",
    "    \n",
    "    # Step 2: Get the path of the extracted directory\n",
    "    dataset_dir = os.path.dirname(dset_download)\n",
    "    weather_df = pd.read_csv(os.path.join(dataset_dir, fname))\n",
    "    weather_df.rename(columns={\"Unnamed: 0\":\"week_number\"}, inplace=True)\n",
    "\n",
    "    print(\"Data downloaded and pandas dataframe created\")\n",
    "    return weather_df"
   ]
  },
  {
   "cell_type": "code",
   "execution_count": 47,
   "id": "0483912e-8a61-4b24-994c-3236d5ba22c9",
   "metadata": {},
   "outputs": [],
   "source": [
    "def generate_time_signal()-> tuple[np.ndarray, np.ndarray, np.ndarray, np.ndarray]:\n",
    "    \"\"\"\n",
    "    Generate a time signal and its forecast.\n",
    "\n",
    "    This function creates a composite signal consisting of two sine waves and a linear trend.\n",
    "    It generates the signal for two time ranges: the initial signal and a forecast.\n",
    "\n",
    "    Returns\n",
    "    -------\n",
    "    tuple[np.ndarray, np.ndarray, np.ndarray, np.ndarray]\n",
    "        A tuple containing four NumPy arrays:\n",
    "        - t : np.ndarray\n",
    "            Time points for the initial signal (0 to 1 seconds, 128 points).\n",
    "        - y : np.ndarray\n",
    "            Initial signal values corresponding to 't'.\n",
    "        - t_forecast : np.ndarray\n",
    "            Time points for the forecast (1 to 3 seconds, 256 points).\n",
    "        - y_forecast : np.ndarray\n",
    "            Forecast signal values corresponding to 't_forecast'.\n",
    "\n",
    "\n",
    "    The initial signal is sampled at 128 points over 0 to 1 second.\n",
    "    The forecast is sampled at 256 points over 1 to 3 seconds.\n",
    "    \"\"\"\n",
    "    def signal(t):\n",
    "        return np.sin(4.25*np.pi*t) + np.sin(8.5*np.pi*t) + 5*t\n",
    "    t = np.linspace(0,1, num=128)\n",
    "    t_forecast = np.linspace(1,3, num=256)\n",
    "    y = signal(t)\n",
    "    y_forecast = signal(t_forecast)\n",
    "    return t, y, t_forecast, y_forecast\n"
   ]
  },
  {
   "cell_type": "markdown",
   "id": "c96eaa1a-13aa-4427-b278-64bb274364bf",
   "metadata": {},
   "source": [
    "## Global Variables"
   ]
  },
  {
   "cell_type": "code",
   "execution_count": 27,
   "id": "3a346daa-ab25-4bd4-afef-560de52df528",
   "metadata": {},
   "outputs": [],
   "source": [
    "WEATHER_DATASET_URL = r\"https://amubox.univ-amu.fr/s/tCEGCpYMk5ANCRT/download/weather_jena_2004_2023.csv\"\n",
    "WEATHER_DATASET_FNAME = \"weather_jena_2004-2023.csv\""
   ]
  },
  {
   "cell_type": "markdown",
   "id": "5ba3d548-4fb1-4f24-80f8-43e464de2700",
   "metadata": {},
   "source": [
    "# Test Signal"
   ]
  },
  {
   "cell_type": "markdown",
   "id": "0f1b530d-2465-4b88-b577-33e607ff28fd",
   "metadata": {},
   "source": [
    "### Signal Generation"
   ]
  },
  {
   "cell_type": "code",
   "execution_count": 41,
   "id": "c12f6a11-8a3c-41a0-85b0-87811f65770b",
   "metadata": {},
   "outputs": [],
   "source": [
    "t, y, t_forecast, y_forecast = generate_time_signal()"
   ]
  },
  {
   "cell_type": "code",
   "execution_count": null,
   "id": "b4d1fbb3-dc16-471f-83ea-93bf38d4bd92",
   "metadata": {},
   "outputs": [],
   "source": []
  },
  {
   "cell_type": "markdown",
   "id": "4b1898fb-448d-44e5-a1db-3d1384511dfe",
   "metadata": {},
   "source": [
    "## Fourier Analysis"
   ]
  },
  {
   "cell_type": "code",
   "execution_count": null,
   "id": "51524654-2844-4f95-b0ba-16123bba40ad",
   "metadata": {},
   "outputs": [],
   "source": []
  },
  {
   "cell_type": "code",
   "execution_count": null,
   "id": "1ab90f57-36e9-4de1-8746-5d3751a22dca",
   "metadata": {},
   "outputs": [],
   "source": []
  },
  {
   "cell_type": "markdown",
   "id": "cf9e1178-5b28-4a44-a5f9-481bf848ea37",
   "metadata": {},
   "source": [
    "## Fourier Forecasting"
   ]
  },
  {
   "cell_type": "code",
   "execution_count": null,
   "id": "a1149edf-8173-4cdf-b6e6-9d8b222e9338",
   "metadata": {},
   "outputs": [],
   "source": []
  },
  {
   "cell_type": "code",
   "execution_count": null,
   "id": "3717a82f-4270-4ca2-a88d-eab8bda69923",
   "metadata": {},
   "outputs": [],
   "source": []
  },
  {
   "cell_type": "markdown",
   "id": "2a3616c7-3a8d-4c2c-a191-3a20b43060f5",
   "metadata": {},
   "source": [
    "## Fourier Network Implementation and Training"
   ]
  },
  {
   "cell_type": "code",
   "execution_count": null,
   "id": "3702953e-3443-4196-a684-b8526002ccba",
   "metadata": {},
   "outputs": [],
   "source": []
  },
  {
   "cell_type": "code",
   "execution_count": null,
   "id": "bbe19e16-389e-45df-91df-fcab8478f6c6",
   "metadata": {},
   "outputs": [],
   "source": []
  },
  {
   "cell_type": "markdown",
   "id": "a3cdd1df-5f32-47d0-a744-6036149862ea",
   "metadata": {},
   "source": [
    "## Fourier Network Prediction"
   ]
  },
  {
   "cell_type": "code",
   "execution_count": null,
   "id": "288b8e45-d8f0-402a-ba0d-2bee4876b19f",
   "metadata": {},
   "outputs": [],
   "source": []
  },
  {
   "cell_type": "code",
   "execution_count": null,
   "id": "0ba1c825-90b7-4b2b-b9a9-9b9f31805d80",
   "metadata": {},
   "outputs": [],
   "source": []
  },
  {
   "cell_type": "markdown",
   "id": "fd5103c0-67cb-4ed1-ba18-317f9f0a33cd",
   "metadata": {},
   "source": [
    "## Initial Weights Implementation"
   ]
  },
  {
   "cell_type": "code",
   "execution_count": null,
   "id": "4176c4d5-b5a2-45e8-b8d6-29ace4d5d8d6",
   "metadata": {},
   "outputs": [],
   "source": []
  },
  {
   "cell_type": "markdown",
   "id": "47bf926e-668e-4d1a-a4a2-fdff2e9ef68c",
   "metadata": {},
   "source": [
    "## Model Interpretability"
   ]
  },
  {
   "cell_type": "code",
   "execution_count": null,
   "id": "85e849a5-ef4c-47af-858b-6beb01fd97f6",
   "metadata": {},
   "outputs": [],
   "source": []
  },
  {
   "cell_type": "markdown",
   "id": "7a33409a-1448-4b70-9caa-d096894fb2c0",
   "metadata": {},
   "source": [
    "# Weather data Loading"
   ]
  },
  {
   "cell_type": "code",
   "execution_count": 45,
   "id": "af743f9a-ae8c-410b-a55a-1d1836eb7308",
   "metadata": {},
   "outputs": [
    {
     "name": "stdout",
     "output_type": "stream",
     "text": [
      "Data downloaded and pandas dataframe created\n"
     ]
    }
   ],
   "source": [
    "weather_df = load_weather_dataset(WEATHER_DATASET_URL, WEATHER_DATASET_FNAME)"
   ]
  },
  {
   "cell_type": "code",
   "execution_count": 44,
   "id": "1515939e-b2c3-42c5-9e0c-a7199d3922df",
   "metadata": {},
   "outputs": [
    {
     "data": {
      "text/html": [
       "<div>\n",
       "<style scoped>\n",
       "    .dataframe tbody tr th:only-of-type {\n",
       "        vertical-align: middle;\n",
       "    }\n",
       "\n",
       "    .dataframe tbody tr th {\n",
       "        vertical-align: top;\n",
       "    }\n",
       "\n",
       "    .dataframe thead th {\n",
       "        text-align: right;\n",
       "    }\n",
       "</style>\n",
       "<table border=\"1\" class=\"dataframe\">\n",
       "  <thead>\n",
       "    <tr style=\"text-align: right;\">\n",
       "      <th></th>\n",
       "      <th>week_number</th>\n",
       "      <th>date</th>\n",
       "      <th>T_mean</th>\n",
       "      <th>T_min</th>\n",
       "      <th>T_max</th>\n",
       "      <th>p_mean</th>\n",
       "      <th>p_min</th>\n",
       "      <th>p_max</th>\n",
       "      <th>rho_mean</th>\n",
       "      <th>rho_min</th>\n",
       "      <th>rho_max</th>\n",
       "      <th>year</th>\n",
       "      <th>week</th>\n",
       "    </tr>\n",
       "  </thead>\n",
       "  <tbody>\n",
       "    <tr>\n",
       "      <th>0</th>\n",
       "      <td>0</td>\n",
       "      <td>2004-01-04</td>\n",
       "      <td>-4.336052</td>\n",
       "      <td>-9.71</td>\n",
       "      <td>0.04</td>\n",
       "      <td>991.806904</td>\n",
       "      <td>985.26</td>\n",
       "      <td>997.93</td>\n",
       "      <td>1283.474678</td>\n",
       "      <td>1253.53</td>\n",
       "      <td>1312.08</td>\n",
       "      <td>2004</td>\n",
       "      <td>1</td>\n",
       "    </tr>\n",
       "    <tr>\n",
       "      <th>1</th>\n",
       "      <td>1</td>\n",
       "      <td>2004-01-11</td>\n",
       "      <td>1.387659</td>\n",
       "      <td>-8.19</td>\n",
       "      <td>9.28</td>\n",
       "      <td>986.651409</td>\n",
       "      <td>974.00</td>\n",
       "      <td>997.97</td>\n",
       "      <td>1249.345427</td>\n",
       "      <td>1198.20</td>\n",
       "      <td>1309.98</td>\n",
       "      <td>2004</td>\n",
       "      <td>2</td>\n",
       "    </tr>\n",
       "    <tr>\n",
       "      <th>2</th>\n",
       "      <td>2</td>\n",
       "      <td>2004-01-18</td>\n",
       "      <td>3.421766</td>\n",
       "      <td>-3.57</td>\n",
       "      <td>8.67</td>\n",
       "      <td>973.310278</td>\n",
       "      <td>958.21</td>\n",
       "      <td>997.53</td>\n",
       "      <td>1223.163671</td>\n",
       "      <td>1181.79</td>\n",
       "      <td>1286.46</td>\n",
       "      <td>2004</td>\n",
       "      <td>3</td>\n",
       "    </tr>\n",
       "    <tr>\n",
       "      <th>3</th>\n",
       "      <td>3</td>\n",
       "      <td>2004-01-25</td>\n",
       "      <td>-2.463452</td>\n",
       "      <td>-8.07</td>\n",
       "      <td>3.90</td>\n",
       "      <td>988.472966</td>\n",
       "      <td>972.13</td>\n",
       "      <td>996.67</td>\n",
       "      <td>1270.189861</td>\n",
       "      <td>1232.71</td>\n",
       "      <td>1304.77</td>\n",
       "      <td>2004</td>\n",
       "      <td>4</td>\n",
       "    </tr>\n",
       "    <tr>\n",
       "      <th>4</th>\n",
       "      <td>4</td>\n",
       "      <td>2004-02-01</td>\n",
       "      <td>1.083105</td>\n",
       "      <td>-5.77</td>\n",
       "      <td>11.76</td>\n",
       "      <td>978.643919</td>\n",
       "      <td>966.88</td>\n",
       "      <td>993.15</td>\n",
       "      <td>1241.069683</td>\n",
       "      <td>1197.71</td>\n",
       "      <td>1268.53</td>\n",
       "      <td>2004</td>\n",
       "      <td>5</td>\n",
       "    </tr>\n",
       "  </tbody>\n",
       "</table>\n",
       "</div>"
      ],
      "text/plain": [
       "   week_number        date    T_mean  T_min  T_max      p_mean   p_min  \\\n",
       "0            0  2004-01-04 -4.336052  -9.71   0.04  991.806904  985.26   \n",
       "1            1  2004-01-11  1.387659  -8.19   9.28  986.651409  974.00   \n",
       "2            2  2004-01-18  3.421766  -3.57   8.67  973.310278  958.21   \n",
       "3            3  2004-01-25 -2.463452  -8.07   3.90  988.472966  972.13   \n",
       "4            4  2004-02-01  1.083105  -5.77  11.76  978.643919  966.88   \n",
       "\n",
       "    p_max     rho_mean  rho_min  rho_max  year  week  \n",
       "0  997.93  1283.474678  1253.53  1312.08  2004     1  \n",
       "1  997.97  1249.345427  1198.20  1309.98  2004     2  \n",
       "2  997.53  1223.163671  1181.79  1286.46  2004     3  \n",
       "3  996.67  1270.189861  1232.71  1304.77  2004     4  \n",
       "4  993.15  1241.069683  1197.71  1268.53  2004     5  "
      ]
     },
     "execution_count": 44,
     "metadata": {},
     "output_type": "execute_result"
    }
   ],
   "source": []
  },
  {
   "cell_type": "markdown",
   "id": "c2d1ae4f-3f16-4007-8be3-01aba2730fc7",
   "metadata": {},
   "source": [
    "## Fourier Network Train and Prédict"
   ]
  },
  {
   "cell_type": "code",
   "execution_count": null,
   "id": "958390a7-97a4-4b02-9776-d532801c4f48",
   "metadata": {},
   "outputs": [],
   "source": []
  },
  {
   "cell_type": "code",
   "execution_count": null,
   "id": "f89d4110-5b06-4716-b7a7-ef26291e1a1d",
   "metadata": {},
   "outputs": [],
   "source": []
  },
  {
   "cell_type": "markdown",
   "id": "c26cc45c-1f67-464d-b6e4-dbffb927c3c1",
   "metadata": {},
   "source": [
    "## Comparison with Fourier forecasting"
   ]
  },
  {
   "cell_type": "code",
   "execution_count": null,
   "id": "b11f37cd-f98d-4244-b1b5-fb707be82fd1",
   "metadata": {},
   "outputs": [],
   "source": []
  },
  {
   "cell_type": "code",
   "execution_count": null,
   "id": "7dc6e8ac-8583-442a-98e6-1a5d42483dbf",
   "metadata": {},
   "outputs": [],
   "source": []
  },
  {
   "cell_type": "markdown",
   "id": "37059e63-8522-4e83-b659-301d5119227f",
   "metadata": {},
   "source": [
    "## Conclustions"
   ]
  },
  {
   "cell_type": "markdown",
   "id": "ae409548-9afd-47aa-ba8d-2072d22dcda4",
   "metadata": {},
   "source": []
  },
  {
   "cell_type": "markdown",
   "id": "8ea0802b-1a7b-4e23-bebc-82dfe51752e7",
   "metadata": {},
   "source": []
  },
  {
   "cell_type": "markdown",
   "id": "caa7d4c3-5134-458f-bda3-5b07ac568ca8",
   "metadata": {},
   "source": []
  },
  {
   "cell_type": "markdown",
   "id": "d6b96258-44b2-49f5-8070-88c79245fc9a",
   "metadata": {},
   "source": [
    "### References"
   ]
  },
  {
   "cell_type": "markdown",
   "id": "9fbc3ba5-c34e-4a4a-bb0f-67b71fd9624f",
   "metadata": {},
   "source": []
  }
 ],
 "metadata": {
  "kernelspec": {
   "display_name": "Python 3 (ipykernel)",
   "language": "python",
   "name": "python3"
  },
  "language_info": {
   "codemirror_mode": {
    "name": "ipython",
    "version": 3
   },
   "file_extension": ".py",
   "mimetype": "text/x-python",
   "name": "python",
   "nbconvert_exporter": "python",
   "pygments_lexer": "ipython3",
   "version": "3.10.8"
  }
 },
 "nbformat": 4,
 "nbformat_minor": 5
}
