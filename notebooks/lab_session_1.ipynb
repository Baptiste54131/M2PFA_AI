{
 "cells": [
  {
   "cell_type": "markdown",
   "id": "6e27a4b6-cfab-477e-8583-99e81b5e0204",
   "metadata": {},
   "source": [
    "Name : "
   ]
  },
  {
   "cell_type": "markdown",
   "id": "1579b88a-c255-42e7-b51e-7c991787eb82",
   "metadata": {},
   "source": [
    "E-mail : "
   ]
  },
  {
   "cell_type": "markdown",
   "id": "72ca5213-7c50-42fd-b9cd-5dd23a98aa86",
   "metadata": {},
   "source": [
    "### Module Import"
   ]
  },
  {
   "cell_type": "code",
   "execution_count": null,
   "id": "896d16a8-ba67-4727-8791-d7fba144cc46",
   "metadata": {},
   "outputs": [],
   "source": [
    "import pandas as pd\n",
    "import numpy as np\n",
    "import matplotlib.pyplot as plt\n",
    "from sklearn.model_selection import train_test_split \n",
    "from keras.layers import Dense, Input, Dropout, BatchNormalization\n",
    "from keras.models import Sequential\n",
    "from keras import optimizers, regularizers\n",
    "from sklearn.metrics import r2_score\n",
    "import matplotlib.pyplot as plt\n",
    "from sklearn.preprocessing import StandardScaler"
   ]
  },
  {
   "cell_type": "markdown",
   "id": "d52136b8-3892-43f2-afca-e477824e2e8b",
   "metadata": {},
   "source": [
    "# Useful Jupyter Notebook Shortcuts\n",
    "\n",
    "Here are some helpful keyboard shortcuts for Jupyter Notebook:\n",
    "\n",
    "- **M**: Switch to Markdown mode\n",
    "- **Y**: Switch to Code mode\n",
    "- **A**: Insert cell above\n",
    "- **B**: Insert cell below\n",
    "- **D, D**: (Press D twice) Delete selected cell\n",
    "- **Shift + Enter**: Run the current cell and move to the next\n",
    "- **Ctrl + Enter**: Run the current cell and stay on it\n",
    "- **Shift + Tab**: Show function/method documentation\n",
    "- **Ctrl + Shift + -**: Split cell at cursor\n",
    "- **Esc**: Enter command mode (blue border)\n",
    "- **Enter**: Enter edit mode (green border)\n"
   ]
  },
  {
   "cell_type": "markdown",
   "id": "ac0db641-a480-4652-a18f-e70fcb5d1138",
   "metadata": {},
   "source": [
    "## Make a table in markdown :\n",
    "\n",
    "```\n",
    "| Architecture | Scaled | Epochs | mse  | val_mse | $R^2$ |\n",
    "|--------------|--------|--------|------|---------|-------|\n",
    "|              |        |        |      |         |       |\n",
    "|              |        |        |      |         |       |\n",
    "|              |        |        |      |         |       |\n",
    "|              |        |        |      |         |       |\n",
    "|              |        |        |      |         |       |\n",
    "```\n",
    "\n",
    "Note: The number of spaces used in this markdown table is just for visual formatting and is not mandatory. The table will render correctly even with minimal spacing."
   ]
  },
  {
   "cell_type": "markdown",
   "id": "7cf1ae8e-73e0-4cc5-aa45-25a66b38ca46",
   "metadata": {},
   "source": [
    "will generate : \n",
    "| Architecture | Scaled | Epochs | mse  | val_mse | $R^2$ |\n",
    "|--------------|--------|--------|------|---------|-------|\n",
    "|              |        |        |      |         |       |\n",
    "|              |        |        |      |         |       |\n",
    "|              |        |        |      |         |       |\n",
    "|              |        |        |      |         |       |\n",
    "|              |        |        |      |         |       |"
   ]
  },
  {
   "cell_type": "markdown",
   "id": "3eb05154-d428-465e-ab88-7a36bda81dcf",
   "metadata": {},
   "source": [
    "### Local Functions"
   ]
  },
  {
   "cell_type": "code",
   "execution_count": null,
   "id": "b8b725ba-9968-45cd-8444-8e21cc5e2aa4",
   "metadata": {},
   "outputs": [],
   "source": [
    "def read_fixed_width_file(file_path: str, skip_lines: int = 0) -> tuple[pd.DataFrame, dict[str, str]]:\n",
    "    \"\"\"\n",
    "    Read a fixed-width file into a pandas DataFrame and return associated units.\n",
    "\n",
    "    This function reads a specific fixed-width file format containing information about\n",
    "    red giant stars. It creates a pandas DataFrame from the file contents and provides\n",
    "    a dictionary of units for each column.\n",
    "\n",
    "    :param file_path: Path to the fixed-width file.\n",
    "    :type file_path: str\n",
    "    :param skip_lines: Number of lines to skip at the beginning of the file, defaults to 0.\n",
    "    :type skip_lines: int, optional\n",
    "\n",
    "    :return: A tuple containing the pandas DataFrame and a dictionary of units.\n",
    "    :rtype: Tuple[pd.DataFrame, Dict[str, str]]\n",
    "\n",
    "    :raises FileNotFoundError: If the specified file_path does not exist.\n",
    "    :raises pd.errors.EmptyDataError: If the file is empty.\n",
    "\n",
    "    .. note::\n",
    "        The file is expected to have the following columns:\n",
    "        Type, 2MASS, Teff, log(g), [Fe/H], [a/Fe], lnM, lnAge, chi2, GALR,\n",
    "        e_Teff, e_log(g), e_[Fe/H], e_[a/Fe], e_logM, e_logAge\n",
    "\n",
    "    .. warning::\n",
    "        This function is designed for a specific file format. Using it with different\n",
    "        file formats may lead to unexpected results.\n",
    "\n",
    "    Example:\n",
    "        >>> file_path = 'path/to/your/apj523069t1_mrt.txt'\n",
    "        >>> df, units = read_fixed_width_file(file_path, skip_lines=5)\n",
    "        >>> print(df.head())\n",
    "        >>> print(units)\n",
    "    \"\"\"\n",
    "    # Define the column specifications\n",
    "    col_specs = [\n",
    "        (0, 7), (9, 15), (17, 20), (22, 25), (27, 32), (34, 38),\n",
    "        (40, 43), (45, 48), (50, 54),\n",
    "    ]\n",
    "\n",
    "    # Define the column names\n",
    "    col_names = [\n",
    "        'RAdeg', 'Dedeg', 'Teff', 'log(g)', '[Fe/H]', '[a/Fe]',\n",
    "        'mass_in', 'mass', 'age'\n",
    "    ]\n",
    "\n",
    "    # Define the units for each column\n",
    "    units = {\n",
    "        'Teff': 'K',\n",
    "        'log(g)': '[cm/s2]',\n",
    "        '[Fe/H]': '[Sun]',\n",
    "        '[a/Fe]': '[Sun]',\n",
    "        'mass_in': '[sol. Mass]',\n",
    "        'mass': '[sol. Mass]',\n",
    "        'age': '[Gyr]',\n",
    "    }\n",
    "\n",
    "    # Read the file using read_fwf function\n",
    "    df = pd.read_fwf(file_path, \n",
    "                     colspecs=col_specs, \n",
    "                     names=col_names, \n",
    "                     encoding='utf-8', \n",
    "                     skiprows=skip_lines)\n",
    "\n",
    "    return df, units\n"
   ]
  },
  {
   "cell_type": "code",
   "execution_count": null,
   "id": "4814a990-211c-428c-b080-ba7fad72ef86",
   "metadata": {},
   "outputs": [],
   "source": [
    "def scaled_train_test_split(df_train: pd.DataFrame, df_test: pd.DataFrame) -> tuple[pd.DataFrame, pd.DataFrame]:\n",
    "    \"\"\"\n",
    "    Scale the training and test DataFrames using StandardScaler.\n",
    "\n",
    "    This function applies StandardScaler to the input DataFrames, fitting the scaler\n",
    "    on the training data and then transforming both training and test data.\n",
    "\n",
    "    Parameters\n",
    "    ----------\n",
    "    df_train : pd.DataFrame\n",
    "        The training DataFrame to be scaled.\n",
    "    df_test : pd.DataFrame\n",
    "        The test DataFrame to be scaled.\n",
    "\n",
    "    Returns\n",
    "    -------\n",
    "    tuple[pd.DataFrame, pd.DataFrame]\n",
    "        A tuple containing the scaled training DataFrame and the scaled test DataFrame.\n",
    "\n",
    "    Raises\n",
    "    ------\n",
    "    ValueError\n",
    "        If df_train and df_test do not have the same columns.\n",
    "    AssertionError\n",
    "        If either df_train or df_test is empty.\n",
    "\n",
    "    Examples\n",
    "    --------\n",
    "    >>> train_df = pd.DataFrame({'A': [1, 2, 3], 'B': [4, 5, 6]})\n",
    "    >>> test_df = pd.DataFrame({'A': [7, 8], 'B': [9, 10]})\n",
    "    >>> scaled_train, scaled_test = scaled_train_test(train_df, test_df)\n",
    "    \"\"\"\n",
    "    assert not df_train.empty, \"Training DataFrame is empty\"\n",
    "    assert not df_test.empty, \"Test DataFrame is empty\"\n",
    "    \n",
    "    if not df_train.columns.equals(df_test.columns):\n",
    "        raise ValueError(\"Training and test DataFrames must have the same columns\")\n",
    "\n",
    "    scaler = StandardScaler()\n",
    "    scaled_df_train = pd.DataFrame(scaler.fit_transform(df_train), columns=df_train.columns)\n",
    "    scaled_df_test = pd.DataFrame(scaler.transform(df_test), columns=df_test.columns)\n",
    "    \n",
    "    return scaled_df_train, scaled_df_test"
   ]
  },
  {
   "cell_type": "markdown",
   "id": "16bd0d8f-8d19-405a-ae88-f0f7c58a1468",
   "metadata": {},
   "source": [
    "### global variables"
   ]
  },
  {
   "cell_type": "code",
   "execution_count": null,
   "id": "f66b874f-1aa9-48cb-80f3-0935c52184db",
   "metadata": {},
   "outputs": [],
   "source": [
    "DATASET_URL = \"https://content.cld.iop.org/journals/0067-0049/249/1/7/revision1/apjsab8bcdt8_mrt.txt\"\n",
    "RANDOM_SEED = 42"
   ]
  },
  {
   "cell_type": "markdown",
   "id": "23073f5f-915d-4c4d-b5b8-7d2568f485ff",
   "metadata": {},
   "source": [
    "# Dataset Preparation"
   ]
  },
  {
   "cell_type": "markdown",
   "id": "765189ef-4c33-4f93-a8bb-7cd953ee1da4",
   "metadata": {},
   "source": [
    "## downloading data"
   ]
  },
  {
   "cell_type": "code",
   "execution_count": null,
   "id": "08f56b85-3697-4801-8009-89c8a6f2c99b",
   "metadata": {},
   "outputs": [],
   "source": []
  },
  {
   "cell_type": "code",
   "execution_count": null,
   "id": "ccb450cd-9d8b-4205-a4f2-ee42c3e4e125",
   "metadata": {},
   "outputs": [],
   "source": []
  },
  {
   "cell_type": "markdown",
   "id": "6a683520-505e-44bf-89c3-03fd84d6666c",
   "metadata": {},
   "source": [
    "## Data Analysis"
   ]
  },
  {
   "cell_type": "code",
   "execution_count": null,
   "id": "4a58dde3-1f94-467d-9eeb-d22db03668ae",
   "metadata": {},
   "outputs": [],
   "source": []
  },
  {
   "cell_type": "code",
   "execution_count": null,
   "id": "a1b22bf8-92db-47d6-a4a7-a3f932c30a3a",
   "metadata": {},
   "outputs": [],
   "source": []
  },
  {
   "cell_type": "markdown",
   "id": "23edfc32-3875-4cb4-b1c0-340dd0f9bae8",
   "metadata": {},
   "source": [
    "## Data splitting"
   ]
  },
  {
   "cell_type": "code",
   "execution_count": null,
   "id": "9d1d29d2-f2fc-492f-b187-eaeb2d44e8c9",
   "metadata": {},
   "outputs": [],
   "source": []
  },
  {
   "cell_type": "code",
   "execution_count": null,
   "id": "5e14cc5a-04fe-4c1b-ac4b-b44a1674039e",
   "metadata": {},
   "outputs": [],
   "source": []
  },
  {
   "cell_type": "markdown",
   "id": "3764eabf-7a9d-4ade-90e2-54023ed1a96f",
   "metadata": {},
   "source": [
    "# Simple Perceptron"
   ]
  },
  {
   "cell_type": "code",
   "execution_count": null,
   "id": "02077528-c15c-4bfb-9958-de3617661a7b",
   "metadata": {},
   "outputs": [],
   "source": []
  },
  {
   "cell_type": "code",
   "execution_count": null,
   "id": "9b2bd4df-4a93-4ee1-8823-0ed55882b0aa",
   "metadata": {},
   "outputs": [],
   "source": []
  },
  {
   "cell_type": "markdown",
   "id": "343d0d7f-9c4e-4bef-8ae9-5a69ca734c56",
   "metadata": {},
   "source": [
    "## Initial Model Architecture"
   ]
  },
  {
   "cell_type": "code",
   "execution_count": null,
   "id": "838a981c-66ea-4a56-b348-0e884735ba48",
   "metadata": {},
   "outputs": [],
   "source": []
  },
  {
   "cell_type": "code",
   "execution_count": null,
   "id": "23f88a38-3d1b-4528-b2b7-8b7251ee06e2",
   "metadata": {},
   "outputs": [],
   "source": []
  },
  {
   "cell_type": "markdown",
   "id": "a355e374-9820-4554-bc5d-299519ef0c95",
   "metadata": {},
   "source": [
    "## Compile and Training"
   ]
  },
  {
   "cell_type": "code",
   "execution_count": null,
   "id": "de960349-eb60-474f-8044-bdaba96913fd",
   "metadata": {},
   "outputs": [],
   "source": []
  },
  {
   "cell_type": "code",
   "execution_count": null,
   "id": "dd4ee13a-fee2-4277-a7e5-5e806c2ed97b",
   "metadata": {},
   "outputs": [],
   "source": []
  },
  {
   "cell_type": "markdown",
   "id": "90102d97-ebf1-4a21-8c24-885afd6ca029",
   "metadata": {},
   "source": [
    "## Model Performance"
   ]
  },
  {
   "cell_type": "code",
   "execution_count": null,
   "id": "ba5aec7a-d64f-4769-80c7-76d079c6e521",
   "metadata": {},
   "outputs": [],
   "source": []
  },
  {
   "cell_type": "code",
   "execution_count": null,
   "id": "ad35c862-4a81-4f86-a754-ab8dfea40461",
   "metadata": {},
   "outputs": [],
   "source": []
  },
  {
   "cell_type": "markdown",
   "id": "cca3b807-22b4-40a1-959c-6612c678e9c7",
   "metadata": {},
   "source": [
    "### Loss and MSE"
   ]
  },
  {
   "cell_type": "code",
   "execution_count": null,
   "id": "9bc902b4-4f7a-4835-8fd6-1a037b094fa2",
   "metadata": {},
   "outputs": [],
   "source": []
  },
  {
   "cell_type": "code",
   "execution_count": null,
   "id": "ef34c8b5-f7e8-4c04-bb5d-20b04b5f78d6",
   "metadata": {},
   "outputs": [],
   "source": []
  },
  {
   "cell_type": "markdown",
   "id": "f4b6d745-7978-4140-9d12-ccb25178e312",
   "metadata": {},
   "source": [
    "### $R^2$ Score"
   ]
  },
  {
   "cell_type": "code",
   "execution_count": null,
   "id": "eca117d0-ca2c-4f12-9d93-3dbf93fce0b2",
   "metadata": {},
   "outputs": [],
   "source": []
  },
  {
   "cell_type": "code",
   "execution_count": null,
   "id": "2ae9b8f4-bf12-4c87-ad03-57c04b352838",
   "metadata": {},
   "outputs": [],
   "source": []
  },
  {
   "cell_type": "markdown",
   "id": "81b817b3-f7b7-4196-8973-d7c04d191d22",
   "metadata": {},
   "source": [
    "# Multilayer Perceptron"
   ]
  },
  {
   "cell_type": "code",
   "execution_count": null,
   "id": "870c73eb-0c5a-49de-ac36-6268e1dc68eb",
   "metadata": {},
   "outputs": [],
   "source": []
  },
  {
   "cell_type": "code",
   "execution_count": null,
   "id": "f68cfcbf-90a4-4607-b3b8-3d2a8116e432",
   "metadata": {},
   "outputs": [],
   "source": []
  },
  {
   "cell_type": "markdown",
   "id": "dd2ec5a4-a67c-4017-bd43-55c802190f9d",
   "metadata": {},
   "source": [
    "## Initial MLP"
   ]
  },
  {
   "cell_type": "code",
   "execution_count": null,
   "id": "17e2c2d7-7899-4d5e-87ab-985e014a30b3",
   "metadata": {},
   "outputs": [],
   "source": []
  },
  {
   "cell_type": "code",
   "execution_count": null,
   "id": "9c31f068-36e9-466d-ad94-e87cf2413b2f",
   "metadata": {},
   "outputs": [],
   "source": []
  },
  {
   "cell_type": "markdown",
   "id": "85bd339c-5ace-4d66-92ce-02d942b03e0c",
   "metadata": {},
   "source": [
    "## Optimization"
   ]
  },
  {
   "cell_type": "code",
   "execution_count": null,
   "id": "c5937c9c-b279-46d6-a2cd-ae4fc4740ce3",
   "metadata": {},
   "outputs": [],
   "source": []
  },
  {
   "cell_type": "code",
   "execution_count": null,
   "id": "788fc981-012c-4d7d-be9f-8e18102c3660",
   "metadata": {},
   "outputs": [],
   "source": []
  },
  {
   "cell_type": "markdown",
   "id": "42e525ac-e21d-4d64-9952-fff6910d8df2",
   "metadata": {},
   "source": [
    "### Data scaling"
   ]
  },
  {
   "cell_type": "code",
   "execution_count": null,
   "id": "96ab8b38-bae7-470b-b6b8-b42326af7fef",
   "metadata": {},
   "outputs": [],
   "source": []
  },
  {
   "cell_type": "code",
   "execution_count": null,
   "id": "b16872c7-f0d6-487a-87f7-364762270e07",
   "metadata": {},
   "outputs": [],
   "source": []
  },
  {
   "cell_type": "markdown",
   "id": "465f5085-da82-4c71-82c1-9a2f4cc624bc",
   "metadata": {},
   "source": [
    "### Helpfull layers"
   ]
  },
  {
   "cell_type": "code",
   "execution_count": null,
   "id": "46536da8-0665-485a-8a9a-7015627318e6",
   "metadata": {},
   "outputs": [],
   "source": []
  },
  {
   "cell_type": "code",
   "execution_count": null,
   "id": "38da779b-e31c-4e53-a89f-1091c5b1c6b1",
   "metadata": {},
   "outputs": [],
   "source": []
  },
  {
   "cell_type": "markdown",
   "id": "f730a7d0-7642-497b-9796-95bfbc3867d1",
   "metadata": {},
   "source": [
    "### Regularization"
   ]
  },
  {
   "cell_type": "code",
   "execution_count": null,
   "id": "45ea4d5b-1422-4175-8aa6-24de1ff5edc4",
   "metadata": {},
   "outputs": [],
   "source": []
  },
  {
   "cell_type": "code",
   "execution_count": null,
   "id": "c5824370-15e9-4aff-ae0c-b1feb644be16",
   "metadata": {},
   "outputs": [],
   "source": []
  },
  {
   "cell_type": "markdown",
   "id": "a3b40e67-0689-4182-a3be-b086985143aa",
   "metadata": {},
   "source": [
    "### Epochs"
   ]
  },
  {
   "cell_type": "code",
   "execution_count": null,
   "id": "9b779f75-1553-42ca-8ac6-6141784bfdf1",
   "metadata": {},
   "outputs": [],
   "source": []
  },
  {
   "cell_type": "code",
   "execution_count": null,
   "id": "f24315a0-89aa-4a09-9270-9aaead2293e9",
   "metadata": {},
   "outputs": [],
   "source": []
  },
  {
   "cell_type": "markdown",
   "id": "2d02ffb7-8436-4cc8-a54d-56277d3faeed",
   "metadata": {},
   "source": [
    "# Conclusion"
   ]
  },
  {
   "cell_type": "markdown",
   "id": "cf3da14f-d4e9-4ae7-b383-98552babd9b9",
   "metadata": {},
   "source": []
  }
 ],
 "metadata": {
  "kernelspec": {
   "display_name": "Python 3 (ipykernel)",
   "language": "python",
   "name": "python3"
  },
  "language_info": {
   "codemirror_mode": {
    "name": "ipython",
    "version": 3
   },
   "file_extension": ".py",
   "mimetype": "text/x-python",
   "name": "python",
   "nbconvert_exporter": "python",
   "pygments_lexer": "ipython3",
   "version": "3.10.8"
  }
 },
 "nbformat": 4,
 "nbformat_minor": 5
}
