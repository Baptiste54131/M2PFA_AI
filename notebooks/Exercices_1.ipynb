{
 "cells": [
  {
   "cell_type": "code",
   "execution_count": null,
   "id": "c59671d4",
   "metadata": {},
   "outputs": [],
   "source": [
    "# \n",
    "Name : \n",
    "E-mail : "
   ]
  },
  {
   "cell_type": "markdown",
   "id": "02c17d6e-5f3e-449d-b8e3-7748c47dfe50",
   "metadata": {},
   "source": [
    "### default module import"
   ]
  },
  {
   "cell_type": "code",
   "execution_count": 1,
   "id": "4ba0f669-b5df-4698-9151-ed3cabe6a157",
   "metadata": {},
   "outputs": [],
   "source": [
    "import pandas as pd\n",
    "import numpy as np\n",
    "import matplotlib.pyplot as plt"
   ]
  },
  {
   "cell_type": "markdown",
   "id": "30585783-902f-4f5e-9dea-7fedeb736f17",
   "metadata": {},
   "source": [
    "### data generation"
   ]
  },
  {
   "cell_type": "code",
   "execution_count": 3,
   "id": "5c24f227-0b21-40dc-8583-88f0413152fd",
   "metadata": {},
   "outputs": [],
   "source": [
    "# code for the function to generate the simulation data as to be put here\n",
    "\n",
    "\n",
    "\n",
    "\n"
   ]
  },
  {
   "cell_type": "code",
   "execution_count": 4,
   "id": "249b5174-8d4e-4f85-8fc4-b9210489f8ce",
   "metadata": {},
   "outputs": [],
   "source": [
    "# code for the data generation as to be put here\n",
    "\n",
    "\n",
    "\n",
    "\n"
   ]
  },
  {
   "cell_type": "code",
   "execution_count": 5,
   "id": "4092864a-e0b8-4577-9ce6-6d57226fe2d0",
   "metadata": {},
   "outputs": [],
   "source": [
    "# and here for the conversion to a pandas dataframe\n",
    "\n",
    "\n"
   ]
  },
  {
   "cell_type": "code",
   "execution_count": 9,
   "id": "8df0045e-b589-4d78-9b1e-16c88d853b55",
   "metadata": {},
   "outputs": [],
   "source": [
    "# Question 4 : Data Splitting\n",
    "from sklearn.model_selection import train_test_split \n",
    "\n"
   ]
  },
  {
   "cell_type": "markdown",
   "id": "5f338a7f-2c76-497e-b7a0-f8dac0e42287",
   "metadata": {},
   "source": [
    "# Section 1 - Simple Perceptron"
   ]
  },
  {
   "cell_type": "markdown",
   "id": "a235eb18-4a7e-4860-a182-6b8a8cf9d7b0",
   "metadata": {},
   "source": [
    "### Necessary Imports"
   ]
  },
  {
   "cell_type": "code",
   "execution_count": 8,
   "id": "97ec3bba-0c3c-48fd-9875-10187f042846",
   "metadata": {},
   "outputs": [],
   "source": [
    "from keras.models import Sequential\n",
    "from keras.layers import Input, Dense\n"
   ]
  },
  {
   "cell_type": "markdown",
   "id": "9a3d8aaa-75b0-42ba-9a64-500adb9def10",
   "metadata": {},
   "source": [
    "### machine learning model generation"
   ]
  },
  {
   "cell_type": "code",
   "execution_count": null,
   "id": "c87ff19a-ef81-4f86-84e1-96247b36aeb0",
   "metadata": {},
   "outputs": [],
   "source": [
    "# create the model here\n",
    "\n",
    "\n"
   ]
  },
  {
   "cell_type": "markdown",
   "id": "9f9438a2-e0dc-4d87-b48a-53a084cff17d",
   "metadata": {},
   "source": [
    "### machine learning model compilation"
   ]
  },
  {
   "cell_type": "code",
   "execution_count": null,
   "id": "8ac05246-b666-4494-a785-b68f8d026d55",
   "metadata": {},
   "outputs": [],
   "source": [
    "# compile the model here\n",
    "\n",
    "\n"
   ]
  },
  {
   "cell_type": "code",
   "execution_count": null,
   "id": "dd4e48d7-532e-40a6-a7c8-1ede5ce68502",
   "metadata": {},
   "outputs": [],
   "source": [
    "# train the model here\n",
    "\n",
    "\n"
   ]
  },
  {
   "cell_type": "markdown",
   "id": "16315889-64be-47c0-a6e6-51a09e57bb8b",
   "metadata": {},
   "source": [
    "### Loss function plot"
   ]
  },
  {
   "cell_type": "code",
   "execution_count": null,
   "id": "afe2dcca-a126-4d76-97d6-60e0231dd99e",
   "metadata": {},
   "outputs": [],
   "source": [
    "# plot the loss function\n",
    "\n",
    "\n"
   ]
  },
  {
   "cell_type": "markdown",
   "id": "fae88960-e6a4-44ab-a5a9-0ae201d627f9",
   "metadata": {},
   "source": [
    "### Prediction Comparison"
   ]
  },
  {
   "cell_type": "code",
   "execution_count": 1,
   "id": "b4e4255e-2f4d-4b49-9afd-a569c4caa539",
   "metadata": {},
   "outputs": [],
   "source": [
    "### predict the values of gamma for the x_test data\n",
    "\n",
    "\n"
   ]
  },
  {
   "cell_type": "code",
   "execution_count": 2,
   "id": "51d01f85-331b-48ed-b85a-fb7e353e6075",
   "metadata": {},
   "outputs": [],
   "source": [
    "### make a plot to compare the predicted values with the expected ones\n",
    "\n",
    "\n"
   ]
  },
  {
   "cell_type": "markdown",
   "id": "4bd30568-3efb-4133-ad22-689a71c76b0b",
   "metadata": {},
   "source": [
    "### Overfitting and Underfitting"
   ]
  },
  {
   "cell_type": "code",
   "execution_count": null,
   "id": "007c8b0b-cb94-4264-bdd6-706404acfb19",
   "metadata": {},
   "outputs": [],
   "source": []
  },
  {
   "cell_type": "markdown",
   "id": "2ecab686-f96c-4813-97ab-4c823da7c528",
   "metadata": {},
   "source": [
    "# Section 2 - Multi Layer Perceptron"
   ]
  },
  {
   "cell_type": "markdown",
   "id": "bd9c8f4b-8137-4e5c-bd61-42ea040d44b7",
   "metadata": {},
   "source": [
    "### Model creation"
   ]
  },
  {
   "cell_type": "code",
   "execution_count": null,
   "id": "8e36ce04-aa42-4a9c-a202-1bd761a085af",
   "metadata": {},
   "outputs": [],
   "source": []
  },
  {
   "cell_type": "markdown",
   "id": "2290fcfb-6a53-4867-b3fc-94591aa89428",
   "metadata": {},
   "source": [
    "### Model training"
   ]
  },
  {
   "cell_type": "code",
   "execution_count": null,
   "id": "f2c9a0db-0246-473a-80d5-8baa6d80c8cb",
   "metadata": {},
   "outputs": [],
   "source": []
  },
  {
   "cell_type": "markdown",
   "id": "3f0936a1-2a32-4e96-80cb-1e38920a7499",
   "metadata": {},
   "source": [
    "### Influence of Batch Size"
   ]
  },
  {
   "cell_type": "code",
   "execution_count": null,
   "id": "86886702-d436-4e77-80df-383fbe2e4241",
   "metadata": {},
   "outputs": [],
   "source": []
  }
 ],
 "metadata": {
  "kernelspec": {
   "display_name": "Python 3 (ipykernel)",
   "language": "python",
   "name": "python3"
  },
  "language_info": {
   "codemirror_mode": {
    "name": "ipython",
    "version": 3
   },
   "file_extension": ".py",
   "mimetype": "text/x-python",
   "name": "python",
   "nbconvert_exporter": "python",
   "pygments_lexer": "ipython3",
   "version": "3.10.8"
  }
 },
 "nbformat": 4,
 "nbformat_minor": 5
}
